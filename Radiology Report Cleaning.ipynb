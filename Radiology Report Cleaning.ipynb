{
 "cells": [
  {
   "cell_type": "code",
   "execution_count": 1,
   "id": "98306e52",
   "metadata": {},
   "outputs": [
    {
     "data": {
      "text/html": [
       "<div>\n",
       "<style scoped>\n",
       "    .dataframe tbody tr th:only-of-type {\n",
       "        vertical-align: middle;\n",
       "    }\n",
       "\n",
       "    .dataframe tbody tr th {\n",
       "        vertical-align: top;\n",
       "    }\n",
       "\n",
       "    .dataframe thead th {\n",
       "        text-align: right;\n",
       "    }\n",
       "</style>\n",
       "<table border=\"1\" class=\"dataframe\">\n",
       "  <thead>\n",
       "    <tr style=\"text-align: right;\">\n",
       "      <th></th>\n",
       "      <th>Unnamed: 0</th>\n",
       "      <th>ROW_ID</th>\n",
       "      <th>SUBJECT_ID</th>\n",
       "      <th>HADM_ID</th>\n",
       "      <th>CHARTDATE</th>\n",
       "      <th>CHARTTIME</th>\n",
       "      <th>STORETIME</th>\n",
       "      <th>CATEGORY</th>\n",
       "      <th>DESCRIPTION</th>\n",
       "      <th>CGID</th>\n",
       "      <th>ISERROR</th>\n",
       "      <th>TEXT</th>\n",
       "      <th>finding</th>\n",
       "      <th>Unnamed: 13</th>\n",
       "      <th>Unnamed: 14</th>\n",
       "    </tr>\n",
       "  </thead>\n",
       "  <tbody>\n",
       "    <tr>\n",
       "      <th>0</th>\n",
       "      <td>1200054</td>\n",
       "      <td>1190923</td>\n",
       "      <td>87275</td>\n",
       "      <td>NaN</td>\n",
       "      <td>30/05/2109</td>\n",
       "      <td>30/05/2109 7:48</td>\n",
       "      <td>NaN</td>\n",
       "      <td>Radiology</td>\n",
       "      <td>CT HEAD W/O CONTRAST</td>\n",
       "      <td>NaN</td>\n",
       "      <td>NaN</td>\n",
       "      <td>[**2109-5-30**] 7:48 AM\\nCT HEAD W/O CONTRAST ...</td>\n",
       "      <td>True</td>\n",
       "      <td>NaN</td>\n",
       "      <td>NaN</td>\n",
       "    </tr>\n",
       "    <tr>\n",
       "      <th>1</th>\n",
       "      <td>839412</td>\n",
       "      <td>840567</td>\n",
       "      <td>9539</td>\n",
       "      <td>NaN</td>\n",
       "      <td>16/10/2168</td>\n",
       "      <td>16/10/2168 16:12</td>\n",
       "      <td>NaN</td>\n",
       "      <td>Radiology</td>\n",
       "      <td>L FOOT AP,LAT &amp; OBL LEFT</td>\n",
       "      <td>NaN</td>\n",
       "      <td>NaN</td>\n",
       "      <td>[**2168-10-16**] 4:12 PM\\nFOOT AP,LAT &amp; OBL LE...</td>\n",
       "      <td>True</td>\n",
       "      <td>NaN</td>\n",
       "      <td>NaN</td>\n",
       "    </tr>\n",
       "    <tr>\n",
       "      <th>2</th>\n",
       "      <td>1231258</td>\n",
       "      <td>1229811</td>\n",
       "      <td>83532</td>\n",
       "      <td>180932.0</td>\n",
       "      <td>26/02/2120</td>\n",
       "      <td>26/02/2120 15:52</td>\n",
       "      <td>NaN</td>\n",
       "      <td>Radiology</td>\n",
       "      <td>PICC W/O PORT</td>\n",
       "      <td>NaN</td>\n",
       "      <td>NaN</td>\n",
       "      <td>[**2120-2-26**] 3:52 PM\\nPICC LINE PLACMENT SC...</td>\n",
       "      <td>True</td>\n",
       "      <td>NaN</td>\n",
       "      <td>NaN</td>\n",
       "    </tr>\n",
       "    <tr>\n",
       "      <th>3</th>\n",
       "      <td>1175533</td>\n",
       "      <td>1188099</td>\n",
       "      <td>56484</td>\n",
       "      <td>NaN</td>\n",
       "      <td>09/04/2166</td>\n",
       "      <td>09/04/2166 16:45</td>\n",
       "      <td>NaN</td>\n",
       "      <td>Radiology</td>\n",
       "      <td>MR HEAD W &amp; W/O CONTRAST</td>\n",
       "      <td>NaN</td>\n",
       "      <td>NaN</td>\n",
       "      <td>[**2166-4-9**] 4:45 PM\\nMR HEAD W &amp; W/O CONTRA...</td>\n",
       "      <td>True</td>\n",
       "      <td>NaN</td>\n",
       "      <td>NaN</td>\n",
       "    </tr>\n",
       "    <tr>\n",
       "      <th>4</th>\n",
       "      <td>801882</td>\n",
       "      <td>814407</td>\n",
       "      <td>19382</td>\n",
       "      <td>123726.0</td>\n",
       "      <td>28/02/2127</td>\n",
       "      <td>28/02/2127 22:09</td>\n",
       "      <td>NaN</td>\n",
       "      <td>Radiology</td>\n",
       "      <td>T-SPINE</td>\n",
       "      <td>NaN</td>\n",
       "      <td>NaN</td>\n",
       "      <td>[**2127-2-28**] 10:09 PM\\nT-SPINE; L-SPINE (AP...</td>\n",
       "      <td>True</td>\n",
       "      <td>NaN</td>\n",
       "      <td>NaN</td>\n",
       "    </tr>\n",
       "    <tr>\n",
       "      <th>5</th>\n",
       "      <td>928402</td>\n",
       "      <td>936113</td>\n",
       "      <td>25364</td>\n",
       "      <td>148638.0</td>\n",
       "      <td>22/10/2178</td>\n",
       "      <td>22/10/2178 5:55</td>\n",
       "      <td>NaN</td>\n",
       "      <td>Radiology</td>\n",
       "      <td>CT CHEST W/O CONTRAST</td>\n",
       "      <td>NaN</td>\n",
       "      <td>NaN</td>\n",
       "      <td>[**2178-10-22**] 5:55 AM\\nCT CHEST W/O CONTRAS...</td>\n",
       "      <td>True</td>\n",
       "      <td>NaN</td>\n",
       "      <td>NaN</td>\n",
       "    </tr>\n",
       "  </tbody>\n",
       "</table>\n",
       "</div>"
      ],
      "text/plain": [
       "   Unnamed: 0   ROW_ID  SUBJECT_ID   HADM_ID   CHARTDATE         CHARTTIME  \\\n",
       "0     1200054  1190923       87275       NaN  30/05/2109   30/05/2109 7:48   \n",
       "1      839412   840567        9539       NaN  16/10/2168  16/10/2168 16:12   \n",
       "2     1231258  1229811       83532  180932.0  26/02/2120  26/02/2120 15:52   \n",
       "3     1175533  1188099       56484       NaN  09/04/2166  09/04/2166 16:45   \n",
       "4      801882   814407       19382  123726.0  28/02/2127  28/02/2127 22:09   \n",
       "5      928402   936113       25364  148638.0  22/10/2178   22/10/2178 5:55   \n",
       "\n",
       "  STORETIME   CATEGORY               DESCRIPTION  CGID  ISERROR  \\\n",
       "0       NaN  Radiology      CT HEAD W/O CONTRAST   NaN      NaN   \n",
       "1       NaN  Radiology  L FOOT AP,LAT & OBL LEFT   NaN      NaN   \n",
       "2       NaN  Radiology             PICC W/O PORT   NaN      NaN   \n",
       "3       NaN  Radiology  MR HEAD W & W/O CONTRAST   NaN      NaN   \n",
       "4       NaN  Radiology                   T-SPINE   NaN      NaN   \n",
       "5       NaN  Radiology     CT CHEST W/O CONTRAST   NaN      NaN   \n",
       "\n",
       "                                                TEXT  finding  Unnamed: 13  \\\n",
       "0  [**2109-5-30**] 7:48 AM\\nCT HEAD W/O CONTRAST ...     True          NaN   \n",
       "1  [**2168-10-16**] 4:12 PM\\nFOOT AP,LAT & OBL LE...     True          NaN   \n",
       "2  [**2120-2-26**] 3:52 PM\\nPICC LINE PLACMENT SC...     True          NaN   \n",
       "3  [**2166-4-9**] 4:45 PM\\nMR HEAD W & W/O CONTRA...     True          NaN   \n",
       "4  [**2127-2-28**] 10:09 PM\\nT-SPINE; L-SPINE (AP...     True          NaN   \n",
       "5  [**2178-10-22**] 5:55 AM\\nCT CHEST W/O CONTRAS...     True          NaN   \n",
       "\n",
       "   Unnamed: 14  \n",
       "0          NaN  \n",
       "1          NaN  \n",
       "2          NaN  \n",
       "3          NaN  \n",
       "4          NaN  \n",
       "5          NaN  "
      ]
     },
     "execution_count": 1,
     "metadata": {},
     "output_type": "execute_result"
    }
   ],
   "source": [
    "import pandas as pd\n",
    "df1=pd.read_csv('C:\\\\Users\\\\kk\\\\Downloads\\\\SynthesisData.csv')\n",
    "df1.head(6)"
   ]
  },
  {
   "cell_type": "code",
   "execution_count": 2,
   "id": "815cb7f4",
   "metadata": {},
   "outputs": [],
   "source": [
    "df1[df1['CATEGORY']=='Radiology']\n",
    "list1=df1['CATEGORY'].unique()\n",
    "for i in list1:\n",
    "    x1=df1[df1['CATEGORY']==i]\n",
    "    x1.to_csv(f'C:\\\\Users\\\\kk\\\\OneDrive\\\\Desktop\\\\{i}.csv')"
   ]
  },
  {
   "cell_type": "code",
   "execution_count": 3,
   "id": "4aabe642",
   "metadata": {},
   "outputs": [
    {
     "data": {
      "text/plain": [
       "array(['Radiology', 'Echo', 'Discharge summary', 'Physician'],\n",
       "      dtype=object)"
      ]
     },
     "execution_count": 3,
     "metadata": {},
     "output_type": "execute_result"
    }
   ],
   "source": [
    "df1['CATEGORY'].unique()"
   ]
  },
  {
   "cell_type": "code",
   "execution_count": 4,
   "id": "85683fdd",
   "metadata": {},
   "outputs": [
    {
     "data": {
      "text/plain": [
       "(3000, 15)"
      ]
     },
     "execution_count": 4,
     "metadata": {},
     "output_type": "execute_result"
    }
   ],
   "source": [
    "df1[df1['finding']==True].shape"
   ]
  },
  {
   "cell_type": "raw",
   "id": "63bc04fb",
   "metadata": {},
   "source": [
    "Data Preprocessing"
   ]
  },
  {
   "cell_type": "code",
   "execution_count": null,
   "id": "bdba5f63",
   "metadata": {},
   "outputs": [],
   "source": [
    "df2=pd.DataFrame(data=list(df1['TEXT']))\n",
    "df2.rename(columns={0:'TEXT'},inplace=True)\n",
    "pd.set_option('display.max_colwidth',60)\n",
    "df2[:5]"
   ]
  },
  {
   "cell_type": "code",
   "execution_count": 6,
   "id": "9faf9e66",
   "metadata": {},
   "outputs": [
    {
     "name": "stderr",
     "output_type": "stream",
     "text": [
      "C:\\Users\\kk\\AppData\\Local\\Temp/ipykernel_12840/3652881321.py:1: FutureWarning: Passing a negative integer is deprecated in version 1.0 and will not be supported in future version. Instead, use None to not limit the column width.\n",
      "  pd.set_option('display.max_colwidth', -1)\n"
     ]
    }
   ],
   "source": [
    "pd.set_option('display.max_colwidth', -1)"
   ]
  },
  {
   "cell_type": "raw",
   "id": "c67a27d6",
   "metadata": {},
   "source": [
    "GETTING HEADINGS AND TEXTS"
   ]
  },
  {
   "cell_type": "code",
   "execution_count": 7,
   "id": "e0b9925e",
   "metadata": {},
   "outputs": [],
   "source": [
    "import regex as re\n",
    "def list_elements():\n",
    "    list1=[]\n",
    "    for i in range(len(df2['TEXT'])):\n",
    "        x1=df2['TEXT'][i]\n",
    "        list1.append(x1)\n",
    "    return list1\n",
    "def get_headings(list1):\n",
    "    extra_list=[]\n",
    "    for i in range(len(list1)):\n",
    "        x1=list1[i]\n",
    "        x1=x1.replace('\\n',' ')\n",
    "        new=re.findall(r'[A-Za-z]+:',x1)\n",
    "        extra_list.append(new)\n",
    "    list04=[x1.lower() for x2 in extra_list for x1 in x2]\n",
    "    final_head=set(list04)\n",
    "    final_head=list(final_head)\n",
    "    return final_head\n",
    "new_list=list_elements()\n",
    "headings=get_headings(new_list)"
   ]
  },
  {
   "cell_type": "raw",
   "id": "8bab75fc",
   "metadata": {},
   "source": [
    "Check if heading is present in heading list"
   ]
  },
  {
   "cell_type": "code",
   "execution_count": 8,
   "id": "d5983bf3",
   "metadata": {},
   "outputs": [
    {
     "data": {
      "text/plain": [
       "980"
      ]
     },
     "execution_count": 8,
     "metadata": {},
     "output_type": "execute_result"
    }
   ],
   "source": [
    "len(headings)"
   ]
  },
  {
   "cell_type": "code",
   "execution_count": 9,
   "id": "f1bcf777",
   "metadata": {},
   "outputs": [
    {
     "name": "stdout",
     "output_type": "stream",
     "text": [
      "799\n"
     ]
    }
   ],
   "source": [
    "if 'artery:' in headings:\n",
    "    print(headings.index('artery:'))"
   ]
  },
  {
   "cell_type": "raw",
   "id": "67ae8ed4",
   "metadata": {},
   "source": [
    "Check if list03 is present in your headings\n",
    "This is that headings which came into play while separating "
   ]
  },
  {
   "cell_type": "code",
   "execution_count": null,
   "id": "f79f7121",
   "metadata": {},
   "outputs": [],
   "source": [
    "list03=['bri:','mri:']\n",
    "for value,x in enumerate(list03):\n",
    "    if x in headings:\n",
    "        print('True',value)\n",
    "    else:\n",
    "        print('False',value)\n",
    "        print(x)"
   ]
  },
  {
   "cell_type": "code",
   "execution_count": 11,
   "id": "0ec35de7",
   "metadata": {},
   "outputs": [],
   "source": [
    "pd.set_option('display.max_colwidth',50)"
   ]
  },
  {
   "cell_type": "code",
   "execution_count": 12,
   "id": "f274c7a4",
   "metadata": {},
   "outputs": [],
   "source": [
    "x1=pd.DataFrame(data=[*range(0,3000)])\n",
    "df3=pd.concat([df2,x1],axis=1,join='outer')\n",
    "pd.set_option('display.max_colwidth',50)\n",
    "df3.rename(columns={'TEXT':'Text',0:'Original_position'},inplace=True)"
   ]
  },
  {
   "cell_type": "code",
   "execution_count": 13,
   "id": "2798f1fa",
   "metadata": {},
   "outputs": [],
   "source": [
    "def prepare_text_data(x):\n",
    "    x=x.replace('\\n',' ')\n",
    "    x=x.lower()\n",
    "    return x\n",
    "df3['cleared']=df3['Text'].apply(prepare_text_data)"
   ]
  },
  {
   "cell_type": "raw",
   "id": "cacd196f",
   "metadata": {},
   "source": [
    "getting reports having multiple findings and impression"
   ]
  },
  {
   "cell_type": "code",
   "execution_count": 14,
   "id": "7a2ee817",
   "metadata": {},
   "outputs": [
    {
     "name": "stdout",
     "output_type": "stream",
     "text": [
      "69\n",
      "3000\n",
      "101\n",
      "3000\n"
     ]
    }
   ],
   "source": [
    "def findings_length():\n",
    "    list2=[]\n",
    "    regex1=r'findings:'\n",
    "    for c,i in enumerate(df3['cleared']):\n",
    "        x1=re.findall(regex1,i)\n",
    "        if len(x1)>=2: \n",
    "            list2.append([c,len(x1)])\n",
    "    print(len(list2))\n",
    "    print(len(df3['cleared']))\n",
    "    return list2\n",
    "def impression_length():\n",
    "    list2=[]\n",
    "    regex1=r'impression:'\n",
    "    for c,i in enumerate(df3['cleared']):\n",
    "        x1=re.findall(regex1,i)\n",
    "        if len(x1)>=2: \n",
    "            list2.append([c,len(x1)])\n",
    "    print(len(list2))\n",
    "    print(len(df3['cleared']))\n",
    "    return list2\n",
    "length_double_findings=findings_length()\n",
    "length_double_impression=impression_length()"
   ]
  },
  {
   "cell_type": "code",
   "execution_count": null,
   "id": "fe4e2225",
   "metadata": {},
   "outputs": [],
   "source": [
    "print(df3['Text'][14])"
   ]
  },
  {
   "cell_type": "code",
   "execution_count": 16,
   "id": "722811c5",
   "metadata": {},
   "outputs": [],
   "source": [
    "findings_length_index=[i[0] for i in length_double_findings]\n",
    "impression_length_index=[i[0] for i in length_double_impression]"
   ]
  },
  {
   "cell_type": "code",
   "execution_count": 17,
   "id": "dd8633df",
   "metadata": {},
   "outputs": [
    {
     "name": "stdout",
     "output_type": "stream",
     "text": [
      "170 128\n"
     ]
    }
   ],
   "source": [
    "final_double_list=findings_length_index.copy()\n",
    "final_double_list.extend(impression_length_index)\n",
    "final_double_list_new=list(set(final_double_list))\n",
    "print(len(final_double_list),len(final_double_list_new))"
   ]
  },
  {
   "cell_type": "code",
   "execution_count": null,
   "id": "5d3bdc83",
   "metadata": {},
   "outputs": [],
   "source": [
    "print(findings_length_index)\n",
    "print(impression_length_index)"
   ]
  },
  {
   "cell_type": "code",
   "execution_count": null,
   "id": "ba9ee5dd",
   "metadata": {},
   "outputs": [],
   "source": [
    "result=list(set(findings_length_index).intersection(impression_length_index))\n",
    "result.sort()\n",
    "print(result)"
   ]
  },
  {
   "cell_type": "code",
   "execution_count": 20,
   "id": "a75d6cac",
   "metadata": {},
   "outputs": [],
   "source": [
    "df4=df3.copy()\n",
    "df4.drop(labels=final_double_list_new,inplace=True,axis=0)"
   ]
  },
  {
   "cell_type": "code",
   "execution_count": 21,
   "id": "68c72ebd",
   "metadata": {},
   "outputs": [],
   "source": [
    "def seperation(one_string):\n",
    "    for x in re.finditer(r'findings:',one_string):\n",
    "        return ((x.start(), x.end()))\n",
    "df4['fidning_list_Position']=df4['cleared'].apply(seperation)"
   ]
  },
  {
   "cell_type": "code",
   "execution_count": 22,
   "id": "e6a80061",
   "metadata": {},
   "outputs": [],
   "source": [
    "df5=df4.copy()"
   ]
  },
  {
   "cell_type": "code",
   "execution_count": null,
   "id": "d7582c4e",
   "metadata": {},
   "outputs": [],
   "source": [
    "df3"
   ]
  },
  {
   "cell_type": "code",
   "execution_count": null,
   "id": "13f51152",
   "metadata": {
    "scrolled": true
   },
   "outputs": [],
   "source": [
    "df5.reset_index(inplace=True)\n",
    "df5.drop(labels='index',axis=1,inplace=True)\n",
    "df5"
   ]
  },
  {
   "cell_type": "code",
   "execution_count": 25,
   "id": "5f99979c",
   "metadata": {},
   "outputs": [
    {
     "data": {
      "text/plain": [
       "448"
      ]
     },
     "execution_count": 25,
     "metadata": {},
     "output_type": "execute_result"
    }
   ],
   "source": [
    "df5['Original_position'][433]"
   ]
  },
  {
   "cell_type": "code",
   "execution_count": 26,
   "id": "f16cef77",
   "metadata": {},
   "outputs": [],
   "source": [
    "def get_finding_text(df5):\n",
    "    list1=[]\n",
    "    for values,comp in enumerate(df5['cleared']):\n",
    "        x2=df5['fidning_list_Position'][values][0]\n",
    "        list1.append(comp[x2+10:])\n",
    "    return list1\n",
    "clear_findings=get_finding_text(df5)"
   ]
  },
  {
   "cell_type": "code",
   "execution_count": 27,
   "id": "752300d6",
   "metadata": {},
   "outputs": [],
   "source": [
    "new_headings=headings.copy()\n",
    "#new_headings.extend(list03)\n",
    "#no use of this line of code here"
   ]
  },
  {
   "cell_type": "code",
   "execution_count": 28,
   "id": "99b9e275",
   "metadata": {},
   "outputs": [
    {
     "data": {
      "text/plain": [
       "980"
      ]
     },
     "execution_count": 28,
     "metadata": {},
     "output_type": "execute_result"
    }
   ],
   "source": [
    "len(new_headings)"
   ]
  },
  {
   "cell_type": "code",
   "execution_count": 29,
   "id": "b3a9e5bc",
   "metadata": {},
   "outputs": [],
   "source": [
    "list03=['artery:','valve:','aorta:','pericardium:','ventricle:','atrium:','bases:','pelvis:','abdomen:',\n",
    "        'ct:','left:','right:','contrast:','bri:','chest:','extremity:',\n",
    "       'esophagus:','mucosa:','stomach:','duodenum:','image:','septum:','cervical:','hip:',\n",
    "       'thorax:','head:','lungs:','radiography:','cta:','ankle:','knee:','angiogram:',\n",
    "       'shoulder:','wrist:','views:','side:','noncontrast:','brain:','study:','neck:','brain:',\n",
    "       'lumen:','perfusion:','torso:','spine:','lumen:','eeg:','mri:','gastrointestinal:',\n",
    "       'fingers:','lateral:','motion:','include:','interpretation:','protocol:','hips:','knees:',\n",
    "       'tissues:','mra:','micro:','bleed:','thighs:','ctp:','seen:', \n",
    "        'include:','method:','thigh:','changes:','jejunum:','papilla:','cannulation:',\n",
    "        'doppler:','mra:','pancreas:','port:', 'pa/lat:','musculoskeletal:','follows:','motion:',\n",
    "         'mediastinum:','windows','bones:','arteriogram:','circulation:']\n",
    "#motion is added\n",
    "#bones\n",
    "#course.. i think so needed to remove that"
   ]
  },
  {
   "cell_type": "code",
   "execution_count": 30,
   "id": "c5bfac95",
   "metadata": {},
   "outputs": [],
   "source": [
    "further_headings_deduct=new_headings.copy()\n",
    "for i in list03:\n",
    "    try:\n",
    "        further_headings_deduct.remove(i)\n",
    "    except:\n",
    "        continue"
   ]
  },
  {
   "cell_type": "code",
   "execution_count": 31,
   "id": "31766485",
   "metadata": {},
   "outputs": [
    {
     "data": {
      "text/plain": [
       "2872"
      ]
     },
     "execution_count": 31,
     "metadata": {},
     "output_type": "execute_result"
    }
   ],
   "source": [
    "len(clear_findings)"
   ]
  },
  {
   "cell_type": "code",
   "execution_count": 32,
   "id": "7e744f78",
   "metadata": {},
   "outputs": [],
   "source": [
    "def check_impressions(further_headings_deduct):\n",
    "    best_list=[]\n",
    "    list2=[]\n",
    "    for str_number,data in enumerate(clear_findings):\n",
    "        str2=data.split(' ')\n",
    "        if str_number==int(29):\n",
    "                word='report.'\n",
    "                list2.append(f'word is Lastword-report, index {str2.index(word)} ,string_number 29')\n",
    "        for word in str2:\n",
    "            if word in further_headings_deduct:\n",
    "                list2.append(f'word is {word}, index {str2.index(word)} ,string_number {str_number}')\n",
    "                if word=='impression:' or word=='conclusions:' or word=='reason:' or word=='comments:' or word=='diagnosis:' or word=='structures:' :\n",
    "                    best_list.append(str2.index(word))\n",
    "                break\n",
    "    return list2\n",
    "new_data=check_impressions(further_headings_deduct)"
   ]
  },
  {
   "cell_type": "code",
   "execution_count": 33,
   "id": "bc9ccdf4",
   "metadata": {},
   "outputs": [
    {
     "data": {
      "text/plain": [
       "'impression:,'"
      ]
     },
     "execution_count": 33,
     "metadata": {},
     "output_type": "execute_result"
    }
   ],
   "source": [
    "new_data[1].split(' ')[2]"
   ]
  },
  {
   "cell_type": "code",
   "execution_count": null,
   "id": "def34816",
   "metadata": {},
   "outputs": [],
   "source": [
    "new_data[:]"
   ]
  },
  {
   "cell_type": "code",
   "execution_count": 35,
   "id": "2b0dc74b",
   "metadata": {},
   "outputs": [
    {
     "data": {
      "text/plain": [
       "Text                     [**2166-8-7**] 9:22 AM\\nCT CHEST W/CONTRAST Cl...\n",
       "Original_position                                                       29\n",
       "cleared                  [**2166-8-7**] 9:22 am ct chest w/contrast cli...\n",
       "fidning_list_Position                                         (1214, 1223)\n",
       "Name: 27, dtype: object"
      ]
     },
     "execution_count": 35,
     "metadata": {},
     "output_type": "execute_result"
    }
   ],
   "source": [
    "df5.iloc[27]"
   ]
  },
  {
   "cell_type": "code",
   "execution_count": null,
   "id": "4c255b87",
   "metadata": {},
   "outputs": [],
   "source": [
    "print(df3['Text'][29])"
   ]
  },
  {
   "cell_type": "raw",
   "id": "d23db19b",
   "metadata": {},
   "source": [
    "So from here we get the consecutive findings and impression datapoints"
   ]
  },
  {
   "cell_type": "code",
   "execution_count": 37,
   "id": "34e09a37",
   "metadata": {},
   "outputs": [
    {
     "name": "stdout",
     "output_type": "stream",
     "text": [
      "2307\n"
     ]
    }
   ],
   "source": [
    "crazy_one=[]\n",
    "for value1 in new_data:\n",
    "    x3=value1.split(' ')\n",
    "    value7=x3[2].replace(',','')\n",
    "    if value7=='impression:':\n",
    "        crazy_one.append(value7)\n",
    "print(len(crazy_one))"
   ]
  },
  {
   "cell_type": "code",
   "execution_count": 38,
   "id": "cdd430d3",
   "metadata": {},
   "outputs": [],
   "source": [
    "list01=[]\n",
    "for i in new_data:\n",
    "    x1=i.split(' ')\n",
    "    x2=x1[2]\n",
    "    x2=x2.replace(',','')\n",
    "    if x2=='impression:' or x2=='conclusions:' or x2=='reason:' or x2=='comments:'or x1[2]=='structures:' or x2=='diagnosis:' or x2=='include:':\n",
    "        list01.append(True)"
   ]
  },
  {
   "cell_type": "code",
   "execution_count": 39,
   "id": "a5e8ffed",
   "metadata": {},
   "outputs": [
    {
     "data": {
      "text/plain": [
       "2770"
      ]
     },
     "execution_count": 39,
     "metadata": {},
     "output_type": "execute_result"
    }
   ],
   "source": [
    "len(list01)"
   ]
  },
  {
   "cell_type": "code",
   "execution_count": null,
   "id": "2b51bd2d",
   "metadata": {},
   "outputs": [],
   "source": [
    "' '.join(clear_findings[1897].split(' ')[:])\n",
    "#include: #interpretation: #protocol: #hips: #knees: #tissues: #mra: #micro: #course: #bleed:\n",
    "#..thighs: # ctp: #seen: #include: #method: #thigh #changes  #jejunum: #papilla: #cannulation:\n",
    "#doppler: #mra: #pancreas #port: #pa/lat: #musculoskeletal: #follows: \n",
    "#946 index (bleed)---> wrong shit going on\n",
    "#What to do about the problems which do not have any impressions in their dataset--> 1011\n",
    "\n",
    "\n",
    "# index bone \n",
    "#205 a bit out of box impression with quadrant as starting ending heading\n",
    "# 1004--> examination\n",
    "#1031--> circulation\n",
    "#.. 1169--> window\n",
    "# 1214--> windows\n",
    "#1394--> windows\n",
    "#1529--> arteriogram:\n",
    "#1709--> reveal:\n",
    "# 1897-->windows ....> out of the box impression\n",
    "#1944--> bones..> a bit different\n",
    "#2081..> a very different heading scenario and in this case it is to remove course.\n",
    "#2316--> doppler examination a different logic used in that scenario\n",
    "#2387--> bone windows..> actually this brown word has given us qutie hectic\n",
    "#2411--> another uncertanity in dataset\n",
    "#2522-->bones\n",
    "#2521-->windows\n",
    "#2602--> bones (so there is a chance that bone is a heading that bone can be chance)\n",
    "#2638--> reports totally ruined report irregular error 2758 original position\n",
    "#2698--> 2818 this is also report totally distorted form"
   ]
  },
  {
   "cell_type": "code",
   "execution_count": 41,
   "id": "faeb6ae0",
   "metadata": {},
   "outputs": [
    {
     "data": {
      "text/plain": [
       "Text                     [**2118-7-26**] 1:06 PM\\nCT CHEST W/CONTRAST; ...\n",
       "Original_position                                                     2024\n",
       "cleared                  [**2118-7-26**] 1:06 pm ct chest w/contrast; c...\n",
       "fidning_list_Position                                         (1198, 1207)\n",
       "Name: 1944, dtype: object"
      ]
     },
     "execution_count": 41,
     "metadata": {},
     "output_type": "execute_result"
    }
   ],
   "source": [
    "df5.iloc[1944]"
   ]
  },
  {
   "cell_type": "code",
   "execution_count": 42,
   "id": "198edd73",
   "metadata": {},
   "outputs": [
    {
     "name": "stdout",
     "output_type": "stream",
     "text": [
      "word is kidneys:, index 93 ,string_number 433\n",
      "word is reason:, index 317 ,string_number 433\n"
     ]
    }
   ],
   "source": [
    "new_data12=new_data.copy()\n",
    "print(new_data12[433])\n",
    "new_data[433]='word is reason:, index 317 ,string_number 433'\n",
    "print(new_data[433])"
   ]
  },
  {
   "cell_type": "code",
   "execution_count": 43,
   "id": "f2af1469",
   "metadata": {},
   "outputs": [],
   "source": [
    "def extract_findings(new_data,clear_findings_data):\n",
    "    list_data=[]\n",
    "    other_headings=[]\n",
    "    get_findings_data=[]\n",
    "    for i in range(len(new_data)):\n",
    "        x1=new_data[i].split(' ')\n",
    "        x3=int(x1[4])\n",
    "        list_data.append(x3)\n",
    "    deduct_value=[]\n",
    "    for i in range(len(list_data)):\n",
    "        x1=list_data[i]\n",
    "        other_headings.append(x1-1)\n",
    "    for index,i in enumerate(clear_findings_data):\n",
    "        x7=i.split(' ')\n",
    "        x5=other_headings[index]\n",
    "        value=' '.join(x7[:x5])\n",
    "        get_findings_data.append(value)\n",
    "        #print(x11)\n",
    "        #get_findings_data.append(x12)\n",
    "    return get_findings_data\n",
    "now_findings=extract_findings(new_data,clear_findings)"
   ]
  },
  {
   "cell_type": "code",
   "execution_count": 44,
   "id": "74e72610",
   "metadata": {},
   "outputs": [
    {
     "name": "stdout",
     "output_type": "stream",
     "text": [
      "980\n"
     ]
    }
   ],
   "source": [
    "print(len(headings))\n",
    "heading1=headings.copy()\n",
    "heading1.remove('impression:')"
   ]
  },
  {
   "cell_type": "code",
   "execution_count": 45,
   "id": "cb8841dc",
   "metadata": {},
   "outputs": [
    {
     "name": "stdout",
     "output_type": "stream",
     "text": [
      "979\n"
     ]
    }
   ],
   "source": [
    "if 'impression:' in heading1:\n",
    "    print(True)\n",
    "print(len(heading1))"
   ]
  },
  {
   "cell_type": "code",
   "execution_count": 46,
   "id": "b019a692",
   "metadata": {},
   "outputs": [],
   "source": [
    "def extract_impressions(new_data,clear_findings,headings,df5):\n",
    "    list1=[]\n",
    "    list2=[]\n",
    "    dict1={}\n",
    "    irregular_list=[29,433,844,946,1011,1040,2081,2505,2623,2638,2698]\n",
    "    #these are the only index in which finding is after the impression\n",
    "    def clear_impression_separately(df5,value,headings):\n",
    "        x7=df5['cleared'][value]\n",
    "        x1=r'impression:'\n",
    "        for x in re.finditer(x1,x7):\n",
    "            ans_start,ans_end=x.start(), x.end()\n",
    "        x8=x7[ans_end+1:]\n",
    "        return x8\n",
    "    #get_answer=ans_end\n",
    "    #print(x[get_answer:])\n",
    "    #headings=headings.remove('impression:')\n",
    "    for i in range(len(new_data)):\n",
    "        x1=int(new_data[i].split(' ')[4])\n",
    "        list1.append(x1)\n",
    "    for value,i1 in enumerate(clear_findings):\n",
    "        if value in irregular_list:\n",
    "            dict1[value]=clear_impression_separately(df5,value,headings)\n",
    "        else:\n",
    "            i10=i1.split(' ')\n",
    "            x01=list1[value]\n",
    "            new_list=i10[x01:]\n",
    "            if new_list[0]=='impression:':\n",
    "                new_list=new_list[1:]\n",
    "                dict1[value]=' '.join(new_list) #if we use new_list i10[x01+1:] we get values that begans from impression\n",
    "            elif new_list[0] != 'impression:':\n",
    "                for i10 in new_list:\n",
    "                    if i10=='impression:':\n",
    "                        x11=new_list.index(i10)\n",
    "                        dict1[value]=' '.join(new_list[x11+1:])\n",
    "    #By this point we get text beginning from impression\n",
    "    return list1,dict1\n",
    "index_of_headings,dict_impressions=extract_impressions(new_data,clear_findings,heading1,df5)"
   ]
  },
  {
   "cell_type": "code",
   "execution_count": null,
   "id": "75d00f42",
   "metadata": {},
   "outputs": [],
   "source": [
    "list02=list(dict_impressions.values())\n",
    "df02=pd.DataFrame(data=list02)\n",
    "df02.rename(columns={0:'impressions'},inplace=True)\n",
    "df02"
   ]
  },
  {
   "cell_type": "code",
   "execution_count": 48,
   "id": "94872ecb",
   "metadata": {},
   "outputs": [
    {
     "name": "stdout",
     "output_type": "stream",
     "text": [
      "429\n"
     ]
    }
   ],
   "source": [
    "def changes_in_impression(x,heading,df02):\n",
    "    list4=[]\n",
    "    dict1={}\n",
    "    extra_list=[]\n",
    "    for value,x1 in enumerate(x):\n",
    "        x2=x1.split(' ')\n",
    "        for x3 in x2:\n",
    "            if x3 in heading:\n",
    "                list4.append((value,x2.index(x3)))\n",
    "                break\n",
    "    print(len(list4))\n",
    "    x3=list(df02['impressions'])\n",
    "    x4=[i[0] for i in list4]\n",
    "    x5=[i[1] for i in list4]\n",
    "    dic1 = dict(zip(x4, x5))\n",
    "    for value,x1 in enumerate(x):\n",
    "        x2=x1.split(' ')\n",
    "        if value in x4:\n",
    "            i3=dic1[value]\n",
    "            element=' '.join(x2[:i3])\n",
    "            extra_list.append(element)\n",
    "        else:\n",
    "            x03=' '.join(x2)\n",
    "            extra_list.append(x03)\n",
    "    #for value,data in enumerate(x3):\n",
    "        #for \n",
    "    return extra_list\n",
    "cleaned_impressions_afterall=changes_in_impression(list02,heading1,df02)"
   ]
  },
  {
   "cell_type": "code",
   "execution_count": null,
   "id": "4d4fe023",
   "metadata": {},
   "outputs": [],
   "source": [
    "df03=pd.DataFrame(data=cleaned_impressions_afterall)\n",
    "df03.rename(columns={0:'Clear impressions'},inplace=True)\n",
    "finally_impressions=pd.concat([df02,df03],axis=1,join='outer')\n",
    "finally_impressions.iloc[3]\n",
    "print(finally_impressions['Clear impressions'][3])\n",
    "print(finally_impressions['impressions'][3])"
   ]
  },
  {
   "cell_type": "code",
   "execution_count": 50,
   "id": "65959467",
   "metadata": {},
   "outputs": [
    {
     "name": "stdout",
     "output_type": "stream",
     "text": [
      "2872\n"
     ]
    }
   ],
   "source": [
    "#this to check basically the strings you extracted from the clear findings list is worth it?.\n",
    "listx=[]\n",
    "for key,value in dict_impressions.items():\n",
    "                listx.append(key)\n",
    "print(len(listx))"
   ]
  },
  {
   "cell_type": "code",
   "execution_count": 51,
   "id": "4758d2c4",
   "metadata": {},
   "outputs": [],
   "source": [
    "list_key=[]\n",
    "for keys in dict_impressions.keys():\n",
    "    list_key.append(keys)\n",
    "list98=[*range(0,2872)]\n",
    "for i in list98:\n",
    "    if i not in list_key:\n",
    "        print(i)"
   ]
  },
  {
   "cell_type": "code",
   "execution_count": 52,
   "id": "07e9f960",
   "metadata": {},
   "outputs": [
    {
     "name": "stdout",
     "output_type": "stream",
     "text": [
      "Text                     [**2174-4-18**] 12:23 PM\\nCTA ABD W&W/O C & RE...\n",
      "Original_position                                                      448\n",
      "cleared                  [**2174-4-18**] 12:23 pm cta abd w&w/o c & rec...\n",
      "fidning_list_Position                                           (745, 754)\n",
      "Name: 433, dtype: object\n"
     ]
    }
   ],
   "source": [
    "print(df5.iloc[433])"
   ]
  },
  {
   "cell_type": "code",
   "execution_count": null,
   "id": "3681d04e",
   "metadata": {},
   "outputs": [],
   "source": [
    "print(df2['TEXT'][448])"
   ]
  },
  {
   "cell_type": "code",
   "execution_count": null,
   "id": "c1c1ff6e",
   "metadata": {},
   "outputs": [],
   "source": [
    "clear_findings[0]"
   ]
  },
  {
   "cell_type": "code",
   "execution_count": 55,
   "id": "706cadfe",
   "metadata": {},
   "outputs": [
    {
     "data": {
      "text/plain": [
       "'107'"
      ]
     },
     "execution_count": 55,
     "metadata": {},
     "output_type": "execute_result"
    }
   ],
   "source": [
    "new_data[0].split(' ')[4]"
   ]
  },
  {
   "cell_type": "code",
   "execution_count": 56,
   "id": "a262163a",
   "metadata": {},
   "outputs": [
    {
     "name": "stdout",
     "output_type": "stream",
     "text": [
      "896\n"
     ]
    }
   ],
   "source": [
    "if 'impression:' in headings:\n",
    "    print(headings.index('impression:'))"
   ]
  },
  {
   "cell_type": "code",
   "execution_count": 57,
   "id": "979e3cce",
   "metadata": {},
   "outputs": [],
   "source": [
    "f7=pd.DataFrame(data=now_findings)"
   ]
  },
  {
   "cell_type": "code",
   "execution_count": null,
   "id": "79405fa7",
   "metadata": {},
   "outputs": [],
   "source": [
    "df6=df5.copy()\n",
    "new_dataframe=pd.concat([df6,f7],axis=1)\n",
    "new_dataframe.rename(columns={0:'Findings_required_cleaning'},inplace=True)\n",
    "new_dataframe"
   ]
  },
  {
   "cell_type": "code",
   "execution_count": null,
   "id": "b2200628",
   "metadata": {},
   "outputs": [],
   "source": [
    "new_dataframe['Findings_required_cleaning'][433]"
   ]
  },
  {
   "cell_type": "code",
   "execution_count": null,
   "id": "b6100136",
   "metadata": {},
   "outputs": [],
   "source": [
    "import random as rnd\n",
    "def check(x):\n",
    "    for i in range(x):\n",
    "        x1=rnd.randint(0,2871)\n",
    "        print(x1)\n",
    "        print(new_dataframe['Findings_required_cleaning'][x1])\n",
    "        print('---------')\n",
    "check(5)"
   ]
  },
  {
   "cell_type": "code",
   "execution_count": null,
   "id": "b34f740d",
   "metadata": {},
   "outputs": [],
   "source": [
    "new_dataframe_f=new_dataframe.copy()\n",
    "new_one=pd.concat([new_dataframe_f,finally_impressions],axis=1)\n",
    "new_one.head()"
   ]
  },
  {
   "cell_type": "code",
   "execution_count": 62,
   "id": "aae78fbd",
   "metadata": {},
   "outputs": [],
   "source": [
    "new_again1=new_one.copy()\n",
    "new_again1.drop(['Text','cleared','impressions','fidning_list_Position'],axis=1,inplace=True)\n",
    "#new_again1.to_csv(f'C:\\\\Users\\\\kk\\\\OneDrive\\\\Desktop\\\\to_sir_naveed.csv')"
   ]
  },
  {
   "cell_type": "raw",
   "id": "ee1caa04",
   "metadata": {},
   "source": [
    "#Printing Scenario"
   ]
  },
  {
   "cell_type": "code",
   "execution_count": 63,
   "id": "35bd04ec",
   "metadata": {},
   "outputs": [
    {
     "data": {
      "text/plain": [
       "\"def print_result(amount):\\n    for i in range(amount):\\n        x=rnd.randint(0,2871)\\n        print(x)\\n        print('findings')\\n        print(new_one['Findings_required_cleaning'][x])\\n        print('---------')\\n        print('----------')\\n        print('Cleared Impressions')\\n        print(new_one['Clear impressions'][x])\\n        print('========================')\\nprint_result(9)\""
      ]
     },
     "execution_count": 63,
     "metadata": {},
     "output_type": "execute_result"
    }
   ],
   "source": [
    "'''def print_result(amount):\n",
    "    for i in range(amount):\n",
    "        x=rnd.randint(0,2871)\n",
    "        print(x)\n",
    "        print('findings')\n",
    "        print(new_one['Findings_required_cleaning'][x])\n",
    "        print('---------')\n",
    "        print('----------')\n",
    "        print('Cleared Impressions')\n",
    "        print(new_one['Clear impressions'][x])\n",
    "        print('========================')\n",
    "print_result(9)'''"
   ]
  },
  {
   "cell_type": "raw",
   "id": "a7ef49f5",
   "metadata": {},
   "source": [
    "Still data extraction is needed but till now we will work on that we have and in future we will improve \n",
    "our data further"
   ]
  },
  {
   "cell_type": "code",
   "execution_count": null,
   "id": "a490ca60",
   "metadata": {},
   "outputs": [],
   "source": [
    "new_again1"
   ]
  },
  {
   "cell_type": "code",
   "execution_count": 71,
   "id": "d7ce1a59",
   "metadata": {},
   "outputs": [
    {
     "data": {
      "text/plain": [
       "\"extra_list=[]\\nfor value,i in enumerate(new_again1['Findings_required_cleaning']):\\n    i2=i.split(' ')\\n    for x1 in i2:\\n        if x1=='(over)':\\n            extra_list.append(value)\\n#def clean_over_text=\\nprint(extra_list)\\nprint(len(extra_list))\""
      ]
     },
     "execution_count": 71,
     "metadata": {},
     "output_type": "execute_result"
    }
   ],
   "source": [
    "'''extra_list=[]\n",
    "for value,i in enumerate(new_again1['Findings_required_cleaning']):\n",
    "    i2=i.split(' ')\n",
    "    for x1 in i2:\n",
    "        if x1=='(over)':\n",
    "            extra_list.append(value)\n",
    "#def clean_over_text=\n",
    "print(extra_list)\n",
    "print(len(extra_list))'''"
   ]
  },
  {
   "cell_type": "code",
   "execution_count": null,
   "id": "fb9e5f79",
   "metadata": {},
   "outputs": [],
   "source": [
    "extra_list1=[]\n",
    "for value,i in enumerate(new_again1['Clear impressions']):\n",
    "    i2=i.split(' ')\n",
    "    for x1 in i2:\n",
    "        if x1=='(over)':\n",
    "            extra_list1.append(value)\n",
    "print(extra_list1)\n",
    "print(len(extra_list1))"
   ]
  },
  {
   "cell_type": "code",
   "execution_count": null,
   "id": "2e2d51ab",
   "metadata": {},
   "outputs": [],
   "source": [
    "new_again1['Findings_required_cleaning'][27]"
   ]
  },
  {
   "cell_type": "code",
   "execution_count": null,
   "id": "926a7386",
   "metadata": {},
   "outputs": [],
   "source": [
    "'''new_again2=new_again1.copy()\n",
    "def cleaning(str1):\n",
    "    str2=str1.split(' ')\n",
    "    for i in str2:\n",
    "        if i=='(over)':\n",
    "            print((i,str2.index(i)))\n",
    "new_again2['Findings_required_cleaning']=new_again2['Findings_required_cleaning'].apply(cleaning)'''\n",
    "def cleaning(list2,index_list):\n",
    "        list99=[]\n",
    "        for value,str_number in enumerate(index_list):\n",
    "            x1=r'(over)'\n",
    "            x32=list2[str_number]\n",
    "            for x in re.finditer(x1,x32):\n",
    "                value_start,value_end=x.start(),x.end()\n",
    "                x9=value_start\n",
    "            list2[str_number]=x32[:x9-1]\n",
    "        return list2\n",
    "#xx1=list(new_again1['Findings_required_cleaning'])\n",
    "findings_almost=cleaning(new_again1['Findings_required_cleaning'],extra_list)"
   ]
  },
  {
   "cell_type": "code",
   "execution_count": null,
   "id": "94ee98a9",
   "metadata": {},
   "outputs": [],
   "source": [
    "#now for impressions\n",
    "impression_almost=cleaning(new_again1['Clear impressions'],extra_list1)"
   ]
  },
  {
   "cell_type": "code",
   "execution_count": 76,
   "id": "5f186fe7",
   "metadata": {},
   "outputs": [],
   "source": [
    "findings_al=findings_almost.copy()"
   ]
  },
  {
   "cell_type": "code",
   "execution_count": 77,
   "id": "44e98553",
   "metadata": {},
   "outputs": [
    {
     "data": {
      "text/plain": [
       "2872"
      ]
     },
     "execution_count": 77,
     "metadata": {},
     "output_type": "execute_result"
    }
   ],
   "source": [
    "def cleanit(datafr):\n",
    "    empty_list=[]\n",
    "    list1=list(datafr)\n",
    "    for i in list1:\n",
    "        string1=re.sub(r'\\[.*?\\]','',i) # elements with square brackets\n",
    "        string2=re.sub(r'\\(.*?\\)','',string1)\n",
    "        empty_list.append(string2)\n",
    "    return empty_list\n",
    "findings_just_almost=cleanit(findings_al)\n",
    "len(findings_just_almost)"
   ]
  },
  {
   "cell_type": "code",
   "execution_count": 78,
   "id": "00b54395",
   "metadata": {},
   "outputs": [],
   "source": [
    "impression_just_almost=impression_almost.copy()\n",
    "impression_just_down=cleanit(impression_just_almost)"
   ]
  },
  {
   "cell_type": "code",
   "execution_count": 80,
   "id": "d74efa21",
   "metadata": {},
   "outputs": [],
   "source": [
    "position=list(new_again1['Original_position'])"
   ]
  },
  {
   "cell_type": "code",
   "execution_count": 81,
   "id": "1c8391b1",
   "metadata": {},
   "outputs": [],
   "source": [
    "dict99 = {'Original_position': position, 'findings': findings_just_almost,'impressions':impression_just_down}  \n",
    "Data_reports = pd.DataFrame(dict99)"
   ]
  },
  {
   "cell_type": "code",
   "execution_count": null,
   "id": "516e5618",
   "metadata": {},
   "outputs": [],
   "source": [
    "Data_reports"
   ]
  },
  {
   "cell_type": "code",
   "execution_count": null,
   "id": "14a66ba7",
   "metadata": {},
   "outputs": [],
   "source": [
    "checking=[]\n",
    "length=[]\n",
    "lent=[]\n",
    "for value,i in enumerate(list(Data_reports['impressions'])):\n",
    "    i1=i.split(' ')\n",
    "    check_len=len(i1)\n",
    "    checking.append([value,check_len])\n",
    "    length.append(check_len)\n",
    "for value,i in enumerate(length):\n",
    "    if i<4:\n",
    "            print(value,True)\n",
    "            lent.append(value)\n",
    "print(lent)\n",
    "length_zero=lent.copy()"
   ]
  },
  {
   "cell_type": "code",
   "execution_count": 84,
   "id": "ce63d42d",
   "metadata": {},
   "outputs": [
    {
     "name": "stdout",
     "output_type": "stream",
     "text": [
      "18 20\n"
     ]
    }
   ],
   "source": [
    "length_zero.remove(2026)\n",
    "length_zero.remove(2423)\n",
    "print(len(length_zero),len(lent))"
   ]
  },
  {
   "cell_type": "code",
   "execution_count": 92,
   "id": "1f179f0a",
   "metadata": {},
   "outputs": [],
   "source": [
    "better_list=[]\n",
    "for i in length_zero:\n",
    "    better_list.append(Data_reports.iloc[i]['Original_position'])"
   ]
  },
  {
   "cell_type": "code",
   "execution_count": null,
   "id": "4f24bd82",
   "metadata": {},
   "outputs": [],
   "source": [
    "better_list"
   ]
  },
  {
   "cell_type": "code",
   "execution_count": null,
   "id": "7b45ec0d",
   "metadata": {},
   "outputs": [],
   "source": [
    "print(df3['Text'][2658])"
   ]
  },
  {
   "cell_type": "code",
   "execution_count": 85,
   "id": "2a8e1037",
   "metadata": {},
   "outputs": [
    {
     "name": "stdout",
     "output_type": "stream",
     "text": [
      "(2872, 3)\n",
      "(2854, 3)\n"
     ]
    }
   ],
   "source": [
    "Data_reports1=Data_reports.copy()\n",
    "print(Data_reports1.shape)\n",
    "Data_reports1.drop(labels=length_zero,axis=0,inplace=True)\n",
    "print(Data_reports1.shape)"
   ]
  },
  {
   "cell_type": "code",
   "execution_count": 86,
   "id": "1d60394f",
   "metadata": {},
   "outputs": [
    {
     "data": {
      "text/html": [
       "<div>\n",
       "<style scoped>\n",
       "    .dataframe tbody tr th:only-of-type {\n",
       "        vertical-align: middle;\n",
       "    }\n",
       "\n",
       "    .dataframe tbody tr th {\n",
       "        vertical-align: top;\n",
       "    }\n",
       "\n",
       "    .dataframe thead th {\n",
       "        text-align: right;\n",
       "    }\n",
       "</style>\n",
       "<table border=\"1\" class=\"dataframe\">\n",
       "  <thead>\n",
       "    <tr style=\"text-align: right;\">\n",
       "      <th></th>\n",
       "      <th>Original_position</th>\n",
       "      <th>findings</th>\n",
       "      <th>impressions</th>\n",
       "    </tr>\n",
       "  </thead>\n",
       "  <tbody>\n",
       "    <tr>\n",
       "      <th>0</th>\n",
       "      <td>0</td>\n",
       "      <td>there is no acute intracranial hemorrhage, mas...</td>\n",
       "      <td>1. no acute intracranial hemorrhage or mass ef...</td>\n",
       "    </tr>\n",
       "    <tr>\n",
       "      <th>1</th>\n",
       "      <td>1</td>\n",
       "      <td>ap, lateral, and oblique views of the left foo...</td>\n",
       "      <td>comminuted intra-articular fracture proximal p...</td>\n",
       "    </tr>\n",
       "    <tr>\n",
       "      <th>2</th>\n",
       "      <td>2</td>\n",
       "      <td>the procedure was explained to the patient. a ...</td>\n",
       "      <td>uncomplicated ultrasound and fluoroscopically ...</td>\n",
       "    </tr>\n",
       "    <tr>\n",
       "      <th>3</th>\n",
       "      <td>3</td>\n",
       "      <td>the ventricles and extra-axial spaces are norm...</td>\n",
       "      <td>3-mm lesion within the left cerebellar hemisph...</td>\n",
       "    </tr>\n",
       "    <tr>\n",
       "      <th>4</th>\n",
       "      <td>4</td>\n",
       "      <td>there is no evidence of fracture, dislocation,...</td>\n",
       "      <td>no evidence of fracture or subluxation.</td>\n",
       "    </tr>\n",
       "    <tr>\n",
       "      <th>...</th>\n",
       "      <td>...</td>\n",
       "      <td>...</td>\n",
       "      <td>...</td>\n",
       "    </tr>\n",
       "    <tr>\n",
       "      <th>2867</th>\n",
       "      <td>2995</td>\n",
       "      <td>on sagittal images, the c1-t1 vertebral bodies...</td>\n",
       "      <td>1. unchanged nondisplaced skull base fracture....</td>\n",
       "    </tr>\n",
       "    <tr>\n",
       "      <th>2868</th>\n",
       "      <td>2996</td>\n",
       "      <td>following removal of a right-sided chest tube,...</td>\n",
       "      <td>no pneumothorax following tube removal.</td>\n",
       "    </tr>\n",
       "    <tr>\n",
       "      <th>2869</th>\n",
       "      <td>2997</td>\n",
       "      <td>cardiac silhouette is markedly widened compare...</td>\n",
       "      <td>1. tiny right apical pneumothorax. 2. enlarged...</td>\n",
       "    </tr>\n",
       "    <tr>\n",
       "      <th>2870</th>\n",
       "      <td>2998</td>\n",
       "      <td>left atrium: mild spontaneous echo contrast i...</td>\n",
       "      <td>dense echo contrast and probable thrombus in t...</td>\n",
       "    </tr>\n",
       "    <tr>\n",
       "      <th>2871</th>\n",
       "      <td>2999</td>\n",
       "      <td>limited spot flouroscopic images available for...</td>\n",
       "      <td>large stricture in the distal part of common b...</td>\n",
       "    </tr>\n",
       "  </tbody>\n",
       "</table>\n",
       "<p>2854 rows × 3 columns</p>\n",
       "</div>"
      ],
      "text/plain": [
       "      Original_position                                           findings  \\\n",
       "0                     0  there is no acute intracranial hemorrhage, mas...   \n",
       "1                     1  ap, lateral, and oblique views of the left foo...   \n",
       "2                     2  the procedure was explained to the patient. a ...   \n",
       "3                     3  the ventricles and extra-axial spaces are norm...   \n",
       "4                     4  there is no evidence of fracture, dislocation,...   \n",
       "...                 ...                                                ...   \n",
       "2867               2995  on sagittal images, the c1-t1 vertebral bodies...   \n",
       "2868               2996  following removal of a right-sided chest tube,...   \n",
       "2869               2997  cardiac silhouette is markedly widened compare...   \n",
       "2870               2998   left atrium: mild spontaneous echo contrast i...   \n",
       "2871               2999  limited spot flouroscopic images available for...   \n",
       "\n",
       "                                            impressions  \n",
       "0     1. no acute intracranial hemorrhage or mass ef...  \n",
       "1     comminuted intra-articular fracture proximal p...  \n",
       "2     uncomplicated ultrasound and fluoroscopically ...  \n",
       "3     3-mm lesion within the left cerebellar hemisph...  \n",
       "4            no evidence of fracture or subluxation.     \n",
       "...                                                 ...  \n",
       "2867  1. unchanged nondisplaced skull base fracture....  \n",
       "2868         no pneumothorax following tube removal.     \n",
       "2869  1. tiny right apical pneumothorax. 2. enlarged...  \n",
       "2870  dense echo contrast and probable thrombus in t...  \n",
       "2871  large stricture in the distal part of common b...  \n",
       "\n",
       "[2854 rows x 3 columns]"
      ]
     },
     "execution_count": 86,
     "metadata": {},
     "output_type": "execute_result"
    }
   ],
   "source": [
    "Data_reports1"
   ]
  },
  {
   "cell_type": "code",
   "execution_count": null,
   "id": "db90dc5e",
   "metadata": {},
   "outputs": [],
   "source": [
    "#Data_reports1.to_csv(f'C:\\\\Users\\\\kk\\\\OneDrive\\\\Desktop\\\\Extracted_Data.csv')"
   ]
  },
  {
   "cell_type": "code",
   "execution_count": null,
   "id": "daec0260",
   "metadata": {},
   "outputs": [],
   "source": []
  }
 ],
 "metadata": {
  "kernelspec": {
   "display_name": "Python 3 (ipykernel)",
   "language": "python",
   "name": "python3"
  },
  "language_info": {
   "codemirror_mode": {
    "name": "ipython",
    "version": 3
   },
   "file_extension": ".py",
   "mimetype": "text/x-python",
   "name": "python",
   "nbconvert_exporter": "python",
   "pygments_lexer": "ipython3",
   "version": "3.10.1"
  }
 },
 "nbformat": 4,
 "nbformat_minor": 5
}
